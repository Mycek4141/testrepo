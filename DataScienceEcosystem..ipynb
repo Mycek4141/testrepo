{
 "cells": [
  {
   "cell_type": "code",
   "execution_count": null,
   "id": "e23394f7-8d5e-43ab-a230-68a8783eae18",
   "metadata": {},
   "outputs": [],
   "source": []
  },
  {
   "cell_type": "markdown",
   "id": "4f47ac3e-9328-409c-8929-9b696948e5a2",
   "metadata": {},
   "source": [
    "#### Add your code below following the instructions given in the \n"
   ]
  },
  {
   "cell_type": "code",
   "execution_count": null,
   "id": "2862a2ea-2f32-46e5-929a-b3ada86de841",
   "metadata": {},
   "outputs": [],
   "source": [
    "#Exercise 1: Create a Jupyter Notebook"
   ]
  },
  {
   "cell_type": "markdown",
   "id": "677e45a5-9b71-4e8e-beef-c781f638b93a",
   "metadata": {},
   "source": [
    "# Data Science Tools and Ecosystem"
   ]
  },
  {
   "cell_type": "code",
   "execution_count": null,
   "id": "b30e2f8c-d854-4bee-8cc6-02d29f5f8791",
   "metadata": {},
   "outputs": [],
   "source": [
    "#In this notebook, Data Science Tools and Ecosystem are summarized."
   ]
  },
  {
   "cell_type": "code",
   "execution_count": null,
   "id": "03f0eaeb-d01c-4823-acba-68ab8be9bedb",
   "metadata": {},
   "outputs": [],
   "source": [
    "#Some of the popular languages that Data Scientists use are:"
   ]
  },
  {
   "cell_type": "markdown",
   "id": "57dcee3f-a0c2-4f10-ac97-d8440c1a7f21",
   "metadata": {},
   "source": [
    "#ordered list\n",
    "1. python\n",
    "2. R\n",
    "3. SQL"
   ]
  },
  {
   "cell_type": "markdown",
   "id": "f977e934-a7b5-4660-bc8d-7e7dcd73221e",
   "metadata": {},
   "source": [
    "#Some of the commonly used libraries used by Data Scientists include:\n",
    "1. NumPy: For numerical computations.\n",
    "2. Pandas: For data manipulation and analysis.\n",
    "3. Matplotlib: For data visualization.\n",
    "4. SciPy: For scientific and technical computing.\n",
    "5. scikit-learn: For machine learning."
   ]
  },
  {
   "cell_type": "markdown",
   "id": "87b777ee-37d6-438a-90a9-c4eaa84ed81d",
   "metadata": {},
   "source": [
    "|Data Science Tools|\n",
    "|------------------|\n",
    "|Jupyter Notebook|\n",
    "|RStudio|\n",
    "|PyCharm|"
   ]
  },
  {
   "cell_type": "markdown",
   "id": "57f9b06e-ab0d-4c33-a04f-2a403fe1e0b3",
   "metadata": {},
   "source": [
    "### Below are a few examples of evaluating arithmetic expressions in Python"
   ]
  },
  {
   "cell_type": "code",
   "execution_count": 5,
   "id": "ed88df5b-c87b-48c2-b354-8bebcc0043cf",
   "metadata": {
    "tags": []
   },
   "outputs": [
    {
     "data": {
      "text/plain": [
       "17"
      ]
     },
     "execution_count": 5,
     "metadata": {},
     "output_type": "execute_result"
    }
   ],
   "source": [
    "# This a simple arithmetic expression to mutiply then add integers\n",
    "(3*4)+5"
   ]
  },
  {
   "cell_type": "code",
   "execution_count": 6,
   "id": "2aa3be6a-8947-4bf8-9f4a-5e4ae9df63f7",
   "metadata": {
    "tags": []
   },
   "outputs": [
    {
     "data": {
      "text/plain": [
       "3.3333333333333335"
      ]
     },
     "execution_count": 6,
     "metadata": {},
     "output_type": "execute_result"
    }
   ],
   "source": [
    "# This will convert 200 minutes to hours by diving by 60\n",
    "200/60"
   ]
  },
  {
   "cell_type": "code",
   "execution_count": null,
   "id": "38223675-d992-4f8b-b12c-fd2ed9ac383e",
   "metadata": {},
   "outputs": [],
   "source": []
  },
  {
   "cell_type": "code",
   "execution_count": null,
   "id": "36cae18e-cf98-4e3f-818f-74d3e06edaa8",
   "metadata": {},
   "outputs": [],
   "source": [
    "#Some of the popular languages that Data Scientists use are:"
   ]
  },
  {
   "cell_type": "markdown",
   "id": "56740b27-1def-4142-8221-b9dee1902003",
   "metadata": {},
   "source": [
    "#**Objects** \n",
    "* python\n",
    "* R\n",
    "* SQL"
   ]
  },
  {
   "cell_type": "markdown",
   "id": "fabf2143-5e48-4521-8328-b1eefb28ce44",
   "metadata": {},
   "source": [
    "## Author\n",
    "Piotr Machtel"
   ]
  },
  {
   "cell_type": "code",
   "execution_count": null,
   "id": "93e02520-8580-4fbd-80f1-bdf609522fe0",
   "metadata": {},
   "outputs": [],
   "source": []
  }
 ],
 "metadata": {
  "kernelspec": {
   "display_name": "Python",
   "language": "python",
   "name": "conda-env-python-py"
  },
  "language_info": {
   "codemirror_mode": {
    "name": "ipython",
    "version": 3
   },
   "file_extension": ".py",
   "mimetype": "text/x-python",
   "name": "python",
   "nbconvert_exporter": "python",
   "pygments_lexer": "ipython3",
   "version": "3.7.12"
  }
 },
 "nbformat": 4,
 "nbformat_minor": 5
}
